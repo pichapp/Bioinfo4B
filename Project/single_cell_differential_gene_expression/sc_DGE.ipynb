{
  "cells": [
    {
      "cell_type": "markdown",
      "id": "417b359b",
      "metadata": {
        "id": "417b359b"
      },
      "source": [
        "# Differential gene expression analysis\n"
      ]
    },
    {
      "cell_type": "markdown",
      "id": "d4027bd5",
      "metadata": {
        "id": "d4027bd5"
      },
      "source": [
        "## Background"
      ]
    },
    {
      "cell_type": "markdown",
      "id": "2706dc1c",
      "metadata": {
        "id": "2706dc1c"
      },
      "source": [
        "The project focuses on differential gene expression testing on complex experimental designs which involve one or more conditions such as diseases, genetic knockouts or drugs. Specifically, we aims to identify differentially expressed genes in response to BMP4 (Bone Morphogenetic Protein 4) perturbation using the gehring_2019 single-cell RNA-seq dataset."
      ]
    },
    {
      "cell_type": "markdown",
      "id": "t0_oLqIxafFz",
      "metadata": {
        "id": "t0_oLqIxafFz"
      },
      "source": [
        "For detailed tutorial, please refer to https://www.sc-best-practices.org/conditions/differential_gene_expression.html. In this project, we will follow the tutorial and perform differential gene expression analysis for another dataset gehring_2019() (https://www.nature.com/articles/s41587-019-0372-z). While you are reading the tutorial, you can start the environment setup in the Google colab. This might take a while."
      ]
    },
    {
      "cell_type": "markdown",
      "id": "b0f1b762",
      "metadata": {
        "id": "b0f1b762"
      },
      "source": [
        "## Environment setup"
      ]
    },
    {
      "cell_type": "code",
      "execution_count": null,
      "id": "aSw0IO6pRBsM",
      "metadata": {
        "colab": {
          "base_uri": "https://localhost:8080/"
        },
        "id": "aSw0IO6pRBsM",
        "outputId": "2d91d2bd-ff08-40cf-a023-dc53a48bc497"
      },
      "outputs": [
        {
          "name": "stdout",
          "output_type": "stream",
          "text": [
            "Collecting pyomo\n",
            "  Downloading pyomo-6.9.1-cp311-cp311-manylinux_2_17_x86_64.manylinux2014_x86_64.whl.metadata (8.2 kB)\n",
            "Requirement already satisfied: ply in /usr/local/lib/python3.11/dist-packages (from pyomo) (3.11)\n",
            "Downloading pyomo-6.9.1-cp311-cp311-manylinux_2_17_x86_64.manylinux2014_x86_64.whl (4.2 MB)\n",
            "\u001b[?25l   \u001b[90m━━━━━━━━━━━━━━━━━━━━━━━━━━━━━━━━━━━━━━━━\u001b[0m \u001b[32m0.0/4.2 MB\u001b[0m \u001b[31m?\u001b[0m eta \u001b[36m-:--:--\u001b[0m\r\u001b[2K   \u001b[91m━━━━━━━━━━━━━━━━━━━━━━━━━━━━━━━━━━━━━━━\u001b[0m\u001b[91m╸\u001b[0m \u001b[32m4.1/4.2 MB\u001b[0m \u001b[31m143.8 MB/s\u001b[0m eta \u001b[36m0:00:01\u001b[0m\r\u001b[2K   \u001b[90m━━━━━━━━━━━━━━━━━━━━━━━━━━━━━━━━━━━━━━━━\u001b[0m \u001b[32m4.2/4.2 MB\u001b[0m \u001b[31m77.7 MB/s\u001b[0m eta \u001b[36m0:00:00\u001b[0m\n",
            "\u001b[?25hInstalling collected packages: pyomo\n",
            "Successfully installed pyomo-6.9.1\n"
          ]
        }
      ],
      "source": [
        "!pip install anndata2ri\n",
        "!pip install pertpy\n",
        "!pip install sc_toolbox\n",
        "!pip install rpy2\n",
        "!pip install scanpy\n",
        "!pip install pyomo"
      ]
    },
    {
      "cell_type": "code",
      "execution_count": 1,
      "id": "e160c5c7",
      "metadata": {
        "id": "e160c5c7"
      },
      "outputs": [],
      "source": [
        "import warnings\n",
        "\n",
        "warnings.filterwarnings(\"ignore\")\n",
        "\n",
        "import logging\n",
        "import random\n",
        "\n",
        "import anndata2ri\n",
        "import matplotlib.pyplot as plt\n",
        "import numpy as np\n",
        "import pandas as pd\n",
        "import pertpy\n",
        "import rpy2.rinterface_lib.callbacks\n",
        "import sc_toolbox\n",
        "import scanpy as sc\n",
        "import seaborn as sns\n",
        "from rpy2.robjects import pandas2ri\n",
        "\n",
        "sc.settings.verbosity = 0\n",
        "rpy2.rinterface_lib.callbacks.logger.setLevel(logging.ERROR)\n",
        "\n",
        "pandas2ri.activate()\n",
        "anndata2ri.activate()\n",
        "\n",
        "%load_ext rpy2.ipython"
      ]
    },
    {
      "cell_type": "code",
      "execution_count": null,
      "id": "ee3b1c27",
      "metadata": {
        "id": "ee3b1c27"
      },
      "outputs": [],
      "source": [
        "%%R\n",
        "if (!requireNamespace(\"BiocManager\", quietly = TRUE))\n",
        "    install.packages(\"BiocManager\")\n",
        "BiocManager::install(\"edgeR\")\n",
        "BiocManager::install(\"S4Vectors\")\n",
        "BiocManager::install(\"SingleCellExperiment\")\n",
        "library(edgeR)\n",
        "library(\"S4Vectors\")\n",
        "library(\"SingleCellExperiment\")"
      ]
    },
    {
      "cell_type": "markdown",
      "id": "9c459029",
      "metadata": {
        "id": "9c459029"
      },
      "source": [
        "## Preparing the dataset"
      ]
    },
    {
      "cell_type": "markdown",
      "id": "3c3f577d",
      "metadata": {
        "id": "3c3f577d"
      },
      "source": [
        "We will use the gehring dataset, which is a 96-plex perturbation experiment on live mouse neural stem cells, consisting of a pair of drug-triples with 4 drugs in total at 3 or 4 different concentractions."
      ]
    },
    {
      "cell_type": "markdown",
      "id": "d2510e2c",
      "metadata": {
        "id": "d2510e2c"
      },
      "source": [
        "First, we load the full dataset."
      ]
    },
    {
      "cell_type": "code",
      "execution_count": 4,
      "id": "6xH34K7l9wPL",
      "metadata": {
        "colab": {
          "base_uri": "https://localhost:8080/",
          "height": 102,
          "referenced_widgets": [
            "036eb3a68f634fbb8a9d3cef5683a672",
            "ddd91bcd9bc146dfa4a59c315e2bc59d"
          ]
        },
        "id": "6xH34K7l9wPL",
        "outputId": "f7531502-228f-4520-fec0-24e382154bb4"
      },
      "outputs": [
        {
          "data": {
            "application/vnd.jupyter.widget-view+json": {
              "model_id": "036eb3a68f634fbb8a9d3cef5683a672",
              "version_major": 2,
              "version_minor": 0
            },
            "text/plain": [
              "Output()"
            ]
          },
          "metadata": {},
          "output_type": "display_data"
        },
        {
          "data": {
            "text/html": [
              "<pre style=\"white-space:pre;overflow-x:auto;line-height:normal;font-family:Menlo,'DejaVu Sans Mono',consolas,'Courier New',monospace\"></pre>\n"
            ],
            "text/plain": []
          },
          "metadata": {},
          "output_type": "display_data"
        },
        {
          "data": {
            "text/plain": [
              "AnnData object with n_obs × n_vars = 20382 × 13256\n",
              "    obs: 'batch', 'disease', 'cancer', 'tissue_type', 'celltype', 'perturbation', 'perturbation_2', 'perturbation_3', 'perturbation_4', 'dose_unit', 'dose_unit_2', 'dose_unit_3', 'dose_unit_4', 'organism', 'perturbation_type', 'dose_value', 'dose_value_2', 'dose_value_3', 'dose_value_4', 'nperts', 'ncounts', 'ngenes', 'percent_mito', 'percent_ribo'\n",
              "    var: 'ensembl_id', 'ncounts', 'ncells'"
            ]
          },
          "execution_count": 4,
          "metadata": {},
          "output_type": "execute_result"
        }
      ],
      "source": [
        "mdata = pertpy.data.gehring_2019()\n",
        "mdata"
      ]
    },
    {
      "cell_type": "code",
      "execution_count": 5,
      "id": "eElKFZGSP7iH",
      "metadata": {
        "colab": {
          "base_uri": "https://localhost:8080/",
          "height": 429
        },
        "id": "eElKFZGSP7iH",
        "outputId": "2a539b2c-3d1b-46e4-f70d-685b7695c5ed"
      },
      "outputs": [
        {
          "data": {
            "application/vnd.google.colaboratory.intrinsic+json": {
              "type": "dataframe"
            },
            "text/html": [
              "\n",
              "  <div id=\"df-a402c47f-ce08-4a81-a23f-66ae8c4955ab\" class=\"colab-df-container\">\n",
              "    <div>\n",
              "<style scoped>\n",
              "    .dataframe tbody tr th:only-of-type {\n",
              "        vertical-align: middle;\n",
              "    }\n",
              "\n",
              "    .dataframe tbody tr th {\n",
              "        vertical-align: top;\n",
              "    }\n",
              "\n",
              "    .dataframe thead th {\n",
              "        text-align: right;\n",
              "    }\n",
              "</style>\n",
              "<table border=\"1\" class=\"dataframe\">\n",
              "  <thead>\n",
              "    <tr style=\"text-align: right;\">\n",
              "      <th></th>\n",
              "      <th>batch</th>\n",
              "      <th>disease</th>\n",
              "      <th>cancer</th>\n",
              "      <th>tissue_type</th>\n",
              "      <th>celltype</th>\n",
              "      <th>perturbation</th>\n",
              "      <th>perturbation_2</th>\n",
              "      <th>perturbation_3</th>\n",
              "      <th>perturbation_4</th>\n",
              "      <th>dose_unit</th>\n",
              "      <th>...</th>\n",
              "      <th>perturbation_type</th>\n",
              "      <th>dose_value</th>\n",
              "      <th>dose_value_2</th>\n",
              "      <th>dose_value_3</th>\n",
              "      <th>dose_value_4</th>\n",
              "      <th>nperts</th>\n",
              "      <th>ncounts</th>\n",
              "      <th>ngenes</th>\n",
              "      <th>percent_mito</th>\n",
              "      <th>percent_ribo</th>\n",
              "    </tr>\n",
              "  </thead>\n",
              "  <tbody>\n",
              "    <tr>\n",
              "      <th>AAACCTGCACACATGT</th>\n",
              "      <td>0</td>\n",
              "      <td>healthy</td>\n",
              "      <td>False</td>\n",
              "      <td>primary</td>\n",
              "      <td>neural stem cells</td>\n",
              "      <td>BMP4</td>\n",
              "      <td>EGF and bFGF</td>\n",
              "      <td>1:5 Scriptaid:decitabine</td>\n",
              "      <td>retinoic acid</td>\n",
              "      <td>ng/mL</td>\n",
              "      <td>...</td>\n",
              "      <td>drug</td>\n",
              "      <td>8</td>\n",
              "      <td>200.0</td>\n",
              "      <td>0.0</td>\n",
              "      <td>0</td>\n",
              "      <td>2</td>\n",
              "      <td>2705.258789</td>\n",
              "      <td>1761</td>\n",
              "      <td>0.061296</td>\n",
              "      <td>1.013085</td>\n",
              "    </tr>\n",
              "    <tr>\n",
              "      <th>AAACCTGCACGTCAGC</th>\n",
              "      <td>0</td>\n",
              "      <td>healthy</td>\n",
              "      <td>False</td>\n",
              "      <td>primary</td>\n",
              "      <td>neural stem cells</td>\n",
              "      <td>BMP4</td>\n",
              "      <td>EGF and bFGF</td>\n",
              "      <td>1:5 Scriptaid:decitabine</td>\n",
              "      <td>retinoic acid</td>\n",
              "      <td>ng/mL</td>\n",
              "      <td>...</td>\n",
              "      <td>drug</td>\n",
              "      <td>0</td>\n",
              "      <td>40.0</td>\n",
              "      <td>0.0</td>\n",
              "      <td>10</td>\n",
              "      <td>2</td>\n",
              "      <td>2583.522705</td>\n",
              "      <td>2062</td>\n",
              "      <td>0.056831</td>\n",
              "      <td>1.000418</td>\n",
              "    </tr>\n",
              "    <tr>\n",
              "      <th>AAACCTGCATTGGTAC</th>\n",
              "      <td>0</td>\n",
              "      <td>healthy</td>\n",
              "      <td>False</td>\n",
              "      <td>primary</td>\n",
              "      <td>neural stem cells</td>\n",
              "      <td>BMP4</td>\n",
              "      <td>EGF and bFGF</td>\n",
              "      <td>1:5 Scriptaid:decitabine</td>\n",
              "      <td>retinoic acid</td>\n",
              "      <td>ng/mL</td>\n",
              "      <td>...</td>\n",
              "      <td>drug</td>\n",
              "      <td>8</td>\n",
              "      <td>200.0</td>\n",
              "      <td>0.0</td>\n",
              "      <td>2</td>\n",
              "      <td>3</td>\n",
              "      <td>2731.804199</td>\n",
              "      <td>2080</td>\n",
              "      <td>0.086957</td>\n",
              "      <td>0.833775</td>\n",
              "    </tr>\n",
              "    <tr>\n",
              "      <th>AAACCTGGTCGCATAT</th>\n",
              "      <td>0</td>\n",
              "      <td>healthy</td>\n",
              "      <td>False</td>\n",
              "      <td>primary</td>\n",
              "      <td>neural stem cells</td>\n",
              "      <td>BMP4</td>\n",
              "      <td>EGF and bFGF</td>\n",
              "      <td>1:5 Scriptaid:decitabine</td>\n",
              "      <td>retinoic acid</td>\n",
              "      <td>ng/mL</td>\n",
              "      <td>...</td>\n",
              "      <td>drug</td>\n",
              "      <td>40</td>\n",
              "      <td>8.0</td>\n",
              "      <td>0.0</td>\n",
              "      <td>2</td>\n",
              "      <td>3</td>\n",
              "      <td>2661.003174</td>\n",
              "      <td>1925</td>\n",
              "      <td>0.106220</td>\n",
              "      <td>0.911778</td>\n",
              "    </tr>\n",
              "    <tr>\n",
              "      <th>AAACCTGGTGCAGGTA</th>\n",
              "      <td>0</td>\n",
              "      <td>healthy</td>\n",
              "      <td>False</td>\n",
              "      <td>primary</td>\n",
              "      <td>neural stem cells</td>\n",
              "      <td>BMP4</td>\n",
              "      <td>EGF and bFGF</td>\n",
              "      <td>1:5 Scriptaid:decitabine</td>\n",
              "      <td>retinoic acid</td>\n",
              "      <td>ng/mL</td>\n",
              "      <td>...</td>\n",
              "      <td>drug</td>\n",
              "      <td>0</td>\n",
              "      <td>40.0</td>\n",
              "      <td>0.0</td>\n",
              "      <td>10</td>\n",
              "      <td>2</td>\n",
              "      <td>3084.830566</td>\n",
              "      <td>2646</td>\n",
              "      <td>0.112301</td>\n",
              "      <td>1.025654</td>\n",
              "    </tr>\n",
              "  </tbody>\n",
              "</table>\n",
              "<p>5 rows × 24 columns</p>\n",
              "</div>\n",
              "    <div class=\"colab-df-buttons\">\n",
              "\n",
              "  <div class=\"colab-df-container\">\n",
              "    <button class=\"colab-df-convert\" onclick=\"convertToInteractive('df-a402c47f-ce08-4a81-a23f-66ae8c4955ab')\"\n",
              "            title=\"Convert this dataframe to an interactive table.\"\n",
              "            style=\"display:none;\">\n",
              "\n",
              "  <svg xmlns=\"http://www.w3.org/2000/svg\" height=\"24px\" viewBox=\"0 -960 960 960\">\n",
              "    <path d=\"M120-120v-720h720v720H120Zm60-500h600v-160H180v160Zm220 220h160v-160H400v160Zm0 220h160v-160H400v160ZM180-400h160v-160H180v160Zm440 0h160v-160H620v160ZM180-180h160v-160H180v160Zm440 0h160v-160H620v160Z\"/>\n",
              "  </svg>\n",
              "    </button>\n",
              "\n",
              "  <style>\n",
              "    .colab-df-container {\n",
              "      display:flex;\n",
              "      gap: 12px;\n",
              "    }\n",
              "\n",
              "    .colab-df-convert {\n",
              "      background-color: #E8F0FE;\n",
              "      border: none;\n",
              "      border-radius: 50%;\n",
              "      cursor: pointer;\n",
              "      display: none;\n",
              "      fill: #1967D2;\n",
              "      height: 32px;\n",
              "      padding: 0 0 0 0;\n",
              "      width: 32px;\n",
              "    }\n",
              "\n",
              "    .colab-df-convert:hover {\n",
              "      background-color: #E2EBFA;\n",
              "      box-shadow: 0px 1px 2px rgba(60, 64, 67, 0.3), 0px 1px 3px 1px rgba(60, 64, 67, 0.15);\n",
              "      fill: #174EA6;\n",
              "    }\n",
              "\n",
              "    .colab-df-buttons div {\n",
              "      margin-bottom: 4px;\n",
              "    }\n",
              "\n",
              "    [theme=dark] .colab-df-convert {\n",
              "      background-color: #3B4455;\n",
              "      fill: #D2E3FC;\n",
              "    }\n",
              "\n",
              "    [theme=dark] .colab-df-convert:hover {\n",
              "      background-color: #434B5C;\n",
              "      box-shadow: 0px 1px 3px 1px rgba(0, 0, 0, 0.15);\n",
              "      filter: drop-shadow(0px 1px 2px rgba(0, 0, 0, 0.3));\n",
              "      fill: #FFFFFF;\n",
              "    }\n",
              "  </style>\n",
              "\n",
              "    <script>\n",
              "      const buttonEl =\n",
              "        document.querySelector('#df-a402c47f-ce08-4a81-a23f-66ae8c4955ab button.colab-df-convert');\n",
              "      buttonEl.style.display =\n",
              "        google.colab.kernel.accessAllowed ? 'block' : 'none';\n",
              "\n",
              "      async function convertToInteractive(key) {\n",
              "        const element = document.querySelector('#df-a402c47f-ce08-4a81-a23f-66ae8c4955ab');\n",
              "        const dataTable =\n",
              "          await google.colab.kernel.invokeFunction('convertToInteractive',\n",
              "                                                    [key], {});\n",
              "        if (!dataTable) return;\n",
              "\n",
              "        const docLinkHtml = 'Like what you see? Visit the ' +\n",
              "          '<a target=\"_blank\" href=https://colab.research.google.com/notebooks/data_table.ipynb>data table notebook</a>'\n",
              "          + ' to learn more about interactive tables.';\n",
              "        element.innerHTML = '';\n",
              "        dataTable['output_type'] = 'display_data';\n",
              "        await google.colab.output.renderOutput(dataTable, element);\n",
              "        const docLink = document.createElement('div');\n",
              "        docLink.innerHTML = docLinkHtml;\n",
              "        element.appendChild(docLink);\n",
              "      }\n",
              "    </script>\n",
              "  </div>\n",
              "\n",
              "\n",
              "<div id=\"df-1420aed4-ba92-453b-8e3d-243436a37318\">\n",
              "  <button class=\"colab-df-quickchart\" onclick=\"quickchart('df-1420aed4-ba92-453b-8e3d-243436a37318')\"\n",
              "            title=\"Suggest charts\"\n",
              "            style=\"display:none;\">\n",
              "\n",
              "<svg xmlns=\"http://www.w3.org/2000/svg\" height=\"24px\"viewBox=\"0 0 24 24\"\n",
              "     width=\"24px\">\n",
              "    <g>\n",
              "        <path d=\"M19 3H5c-1.1 0-2 .9-2 2v14c0 1.1.9 2 2 2h14c1.1 0 2-.9 2-2V5c0-1.1-.9-2-2-2zM9 17H7v-7h2v7zm4 0h-2V7h2v10zm4 0h-2v-4h2v4z\"/>\n",
              "    </g>\n",
              "</svg>\n",
              "  </button>\n",
              "\n",
              "<style>\n",
              "  .colab-df-quickchart {\n",
              "      --bg-color: #E8F0FE;\n",
              "      --fill-color: #1967D2;\n",
              "      --hover-bg-color: #E2EBFA;\n",
              "      --hover-fill-color: #174EA6;\n",
              "      --disabled-fill-color: #AAA;\n",
              "      --disabled-bg-color: #DDD;\n",
              "  }\n",
              "\n",
              "  [theme=dark] .colab-df-quickchart {\n",
              "      --bg-color: #3B4455;\n",
              "      --fill-color: #D2E3FC;\n",
              "      --hover-bg-color: #434B5C;\n",
              "      --hover-fill-color: #FFFFFF;\n",
              "      --disabled-bg-color: #3B4455;\n",
              "      --disabled-fill-color: #666;\n",
              "  }\n",
              "\n",
              "  .colab-df-quickchart {\n",
              "    background-color: var(--bg-color);\n",
              "    border: none;\n",
              "    border-radius: 50%;\n",
              "    cursor: pointer;\n",
              "    display: none;\n",
              "    fill: var(--fill-color);\n",
              "    height: 32px;\n",
              "    padding: 0;\n",
              "    width: 32px;\n",
              "  }\n",
              "\n",
              "  .colab-df-quickchart:hover {\n",
              "    background-color: var(--hover-bg-color);\n",
              "    box-shadow: 0 1px 2px rgba(60, 64, 67, 0.3), 0 1px 3px 1px rgba(60, 64, 67, 0.15);\n",
              "    fill: var(--button-hover-fill-color);\n",
              "  }\n",
              "\n",
              "  .colab-df-quickchart-complete:disabled,\n",
              "  .colab-df-quickchart-complete:disabled:hover {\n",
              "    background-color: var(--disabled-bg-color);\n",
              "    fill: var(--disabled-fill-color);\n",
              "    box-shadow: none;\n",
              "  }\n",
              "\n",
              "  .colab-df-spinner {\n",
              "    border: 2px solid var(--fill-color);\n",
              "    border-color: transparent;\n",
              "    border-bottom-color: var(--fill-color);\n",
              "    animation:\n",
              "      spin 1s steps(1) infinite;\n",
              "  }\n",
              "\n",
              "  @keyframes spin {\n",
              "    0% {\n",
              "      border-color: transparent;\n",
              "      border-bottom-color: var(--fill-color);\n",
              "      border-left-color: var(--fill-color);\n",
              "    }\n",
              "    20% {\n",
              "      border-color: transparent;\n",
              "      border-left-color: var(--fill-color);\n",
              "      border-top-color: var(--fill-color);\n",
              "    }\n",
              "    30% {\n",
              "      border-color: transparent;\n",
              "      border-left-color: var(--fill-color);\n",
              "      border-top-color: var(--fill-color);\n",
              "      border-right-color: var(--fill-color);\n",
              "    }\n",
              "    40% {\n",
              "      border-color: transparent;\n",
              "      border-right-color: var(--fill-color);\n",
              "      border-top-color: var(--fill-color);\n",
              "    }\n",
              "    60% {\n",
              "      border-color: transparent;\n",
              "      border-right-color: var(--fill-color);\n",
              "    }\n",
              "    80% {\n",
              "      border-color: transparent;\n",
              "      border-right-color: var(--fill-color);\n",
              "      border-bottom-color: var(--fill-color);\n",
              "    }\n",
              "    90% {\n",
              "      border-color: transparent;\n",
              "      border-bottom-color: var(--fill-color);\n",
              "    }\n",
              "  }\n",
              "</style>\n",
              "\n",
              "  <script>\n",
              "    async function quickchart(key) {\n",
              "      const quickchartButtonEl =\n",
              "        document.querySelector('#' + key + ' button');\n",
              "      quickchartButtonEl.disabled = true;  // To prevent multiple clicks.\n",
              "      quickchartButtonEl.classList.add('colab-df-spinner');\n",
              "      try {\n",
              "        const charts = await google.colab.kernel.invokeFunction(\n",
              "            'suggestCharts', [key], {});\n",
              "      } catch (error) {\n",
              "        console.error('Error during call to suggestCharts:', error);\n",
              "      }\n",
              "      quickchartButtonEl.classList.remove('colab-df-spinner');\n",
              "      quickchartButtonEl.classList.add('colab-df-quickchart-complete');\n",
              "    }\n",
              "    (() => {\n",
              "      let quickchartButtonEl =\n",
              "        document.querySelector('#df-1420aed4-ba92-453b-8e3d-243436a37318 button');\n",
              "      quickchartButtonEl.style.display =\n",
              "        google.colab.kernel.accessAllowed ? 'block' : 'none';\n",
              "    })();\n",
              "  </script>\n",
              "</div>\n",
              "\n",
              "    </div>\n",
              "  </div>\n"
            ],
            "text/plain": [
              "                 batch  disease  cancer tissue_type           celltype  \\\n",
              "AAACCTGCACACATGT     0  healthy   False     primary  neural stem cells   \n",
              "AAACCTGCACGTCAGC     0  healthy   False     primary  neural stem cells   \n",
              "AAACCTGCATTGGTAC     0  healthy   False     primary  neural stem cells   \n",
              "AAACCTGGTCGCATAT     0  healthy   False     primary  neural stem cells   \n",
              "AAACCTGGTGCAGGTA     0  healthy   False     primary  neural stem cells   \n",
              "\n",
              "                 perturbation perturbation_2            perturbation_3  \\\n",
              "AAACCTGCACACATGT         BMP4   EGF and bFGF  1:5 Scriptaid:decitabine   \n",
              "AAACCTGCACGTCAGC         BMP4   EGF and bFGF  1:5 Scriptaid:decitabine   \n",
              "AAACCTGCATTGGTAC         BMP4   EGF and bFGF  1:5 Scriptaid:decitabine   \n",
              "AAACCTGGTCGCATAT         BMP4   EGF and bFGF  1:5 Scriptaid:decitabine   \n",
              "AAACCTGGTGCAGGTA         BMP4   EGF and bFGF  1:5 Scriptaid:decitabine   \n",
              "\n",
              "                 perturbation_4 dose_unit  ... perturbation_type dose_value  \\\n",
              "AAACCTGCACACATGT  retinoic acid     ng/mL  ...              drug          8   \n",
              "AAACCTGCACGTCAGC  retinoic acid     ng/mL  ...              drug          0   \n",
              "AAACCTGCATTGGTAC  retinoic acid     ng/mL  ...              drug          8   \n",
              "AAACCTGGTCGCATAT  retinoic acid     ng/mL  ...              drug         40   \n",
              "AAACCTGGTGCAGGTA  retinoic acid     ng/mL  ...              drug          0   \n",
              "\n",
              "                 dose_value_2 dose_value_3 dose_value_4  nperts      ncounts  \\\n",
              "AAACCTGCACACATGT        200.0          0.0            0       2  2705.258789   \n",
              "AAACCTGCACGTCAGC         40.0          0.0           10       2  2583.522705   \n",
              "AAACCTGCATTGGTAC        200.0          0.0            2       3  2731.804199   \n",
              "AAACCTGGTCGCATAT          8.0          0.0            2       3  2661.003174   \n",
              "AAACCTGGTGCAGGTA         40.0          0.0           10       2  3084.830566   \n",
              "\n",
              "                  ngenes  percent_mito  percent_ribo  \n",
              "AAACCTGCACACATGT    1761      0.061296      1.013085  \n",
              "AAACCTGCACGTCAGC    2062      0.056831      1.000418  \n",
              "AAACCTGCATTGGTAC    2080      0.086957      0.833775  \n",
              "AAACCTGGTCGCATAT    1925      0.106220      0.911778  \n",
              "AAACCTGGTGCAGGTA    2646      0.112301      1.025654  \n",
              "\n",
              "[5 rows x 24 columns]"
            ]
          },
          "execution_count": 5,
          "metadata": {},
          "output_type": "execute_result"
        }
      ],
      "source": [
        "mdata.obs[:5]"
      ]
    },
    {
      "cell_type": "markdown",
      "id": "da5b945a",
      "metadata": {
        "id": "da5b945a"
      },
      "source": [
        "We will need `batch`  and `dose_value` columns of the `.obs`."
      ]
    },
    {
      "cell_type": "code",
      "execution_count": 6,
      "id": "UxDwoGqaQLTU",
      "metadata": {
        "id": "UxDwoGqaQLTU"
      },
      "outputs": [],
      "source": [
        "mdata.obs = mdata.obs[[\"batch\", \"dose_value\"]]"
      ]
    },
    {
      "cell_type": "code",
      "execution_count": 7,
      "id": "wJ6WOB1DQw3M",
      "metadata": {
        "colab": {
          "base_uri": "https://localhost:8080/"
        },
        "id": "wJ6WOB1DQw3M",
        "outputId": "aaff9831-b708-42b4-9711-aa6ea78ad548"
      },
      "outputs": [
        {
          "data": {
            "text/plain": [
              "AnnData object with n_obs × n_vars = 20382 × 13256\n",
              "    obs: 'batch', 'dose_value'\n",
              "    var: 'ensembl_id', 'ncounts', 'ncells'"
            ]
          },
          "execution_count": 7,
          "metadata": {},
          "output_type": "execute_result"
        }
      ],
      "source": [
        "mdata"
      ]
    },
    {
      "cell_type": "markdown",
      "id": "191185a5",
      "metadata": {
        "id": "191185a5"
      },
      "source": [
        "We will need to work with raw counts so we check that `.X` indeed contains raw counts and put them into the `counts` layer of our AnnData object."
      ]
    },
    {
      "cell_type": "code",
      "execution_count": 9,
      "id": "33430e43",
      "metadata": {
        "colab": {
          "base_uri": "https://localhost:8080/"
        },
        "id": "33430e43",
        "outputId": "e6d50338-14ca-4cad-d4a9-94e239ff2532"
      },
      "outputs": [
        {
          "data": {
            "text/plain": [
              "np.float32(7.4750285)"
            ]
          },
          "execution_count": 9,
          "metadata": {},
          "output_type": "execute_result"
        }
      ],
      "source": [
        "np.max(mdata.X)"
      ]
    },
    {
      "cell_type": "code",
      "execution_count": 10,
      "id": "01d47b04",
      "metadata": {
        "id": "01d47b04"
      },
      "outputs": [],
      "source": [
        "mdata.layers[\"counts\"] = mdata.X.copy()"
      ]
    },
    {
      "cell_type": "markdown",
      "id": "d252fd30",
      "metadata": {
        "id": "d252fd30"
      },
      "source": [
        "Check out how many batches we have."
      ]
    },
    {
      "cell_type": "code",
      "execution_count": 11,
      "id": "7-025Ni6XdKO",
      "metadata": {
        "colab": {
          "base_uri": "https://localhost:8080/",
          "height": 241
        },
        "id": "7-025Ni6XdKO",
        "outputId": "b3ed0703-f621-40a4-eb10-ae25b7e9e03d"
      },
      "outputs": [
        {
          "data": {
            "text/html": [
              "<div>\n",
              "<style scoped>\n",
              "    .dataframe tbody tr th:only-of-type {\n",
              "        vertical-align: middle;\n",
              "    }\n",
              "\n",
              "    .dataframe tbody tr th {\n",
              "        vertical-align: top;\n",
              "    }\n",
              "\n",
              "    .dataframe thead th {\n",
              "        text-align: right;\n",
              "    }\n",
              "</style>\n",
              "<table border=\"1\" class=\"dataframe\">\n",
              "  <thead>\n",
              "    <tr style=\"text-align: right;\">\n",
              "      <th></th>\n",
              "      <th>count</th>\n",
              "    </tr>\n",
              "    <tr>\n",
              "      <th>batch</th>\n",
              "      <th></th>\n",
              "    </tr>\n",
              "  </thead>\n",
              "  <tbody>\n",
              "    <tr>\n",
              "      <th>0</th>\n",
              "      <td>9249</td>\n",
              "    </tr>\n",
              "    <tr>\n",
              "      <th>1</th>\n",
              "      <td>8755</td>\n",
              "    </tr>\n",
              "    <tr>\n",
              "      <th>3</th>\n",
              "      <td>1226</td>\n",
              "    </tr>\n",
              "    <tr>\n",
              "      <th>2</th>\n",
              "      <td>1152</td>\n",
              "    </tr>\n",
              "  </tbody>\n",
              "</table>\n",
              "</div><br><label><b>dtype:</b> int64</label>"
            ],
            "text/plain": [
              "batch\n",
              "0    9249\n",
              "1    8755\n",
              "3    1226\n",
              "2    1152\n",
              "Name: count, dtype: int64"
            ]
          },
          "execution_count": 11,
          "metadata": {},
          "output_type": "execute_result"
        }
      ],
      "source": [
        "mdata.obs[\"batch\"].value_counts()"
      ]
    },
    {
      "cell_type": "code",
      "execution_count": 12,
      "id": "xiwjfb34X_QI",
      "metadata": {
        "id": "xiwjfb34X_QI"
      },
      "outputs": [],
      "source": [
        "mdata.obs[\"dose_value\"] = mdata.obs[\"dose_value\"].astype(\"category\")"
      ]
    },
    {
      "cell_type": "code",
      "execution_count": 14,
      "id": "Fip4lG5gTKvm",
      "metadata": {
        "colab": {
          "base_uri": "https://localhost:8080/"
        },
        "id": "Fip4lG5gTKvm",
        "outputId": "ca4fe09a-474a-440a-db3a-5e8be0248477"
      },
      "outputs": [
        {
          "name": "stdout",
          "output_type": "stream",
          "text": [
            "3\n",
            "3\n",
            "3\n",
            "3\n"
          ]
        }
      ],
      "source": [
        "print(len(mdata[mdata.obs[\"batch\"] == \"0\"].obs[\"dose_value\"].cat.categories))\n",
        "print(len(mdata[mdata.obs[\"batch\"] == \"1\"].obs[\"dose_value\"].cat.categories))\n",
        "print(len(mdata[mdata.obs[\"batch\"] == \"2\"].obs[\"dose_value\"].cat.categories))\n",
        "print(len(mdata[mdata.obs[\"batch\"] == \"3\"].obs[\"dose_value\"].cat.categories))"
      ]
    },
    {
      "cell_type": "markdown",
      "id": "9f13bb4e",
      "metadata": {
        "id": "9f13bb4e"
      },
      "source": [
        "We filter cells which have less than 200 genes and genes which were found in less than 3 cells for a rudimentary quality control."
      ]
    },
    {
      "cell_type": "code",
      "execution_count": 15,
      "id": "39c39c1e",
      "metadata": {
        "colab": {
          "base_uri": "https://localhost:8080/"
        },
        "id": "39c39c1e",
        "outputId": "23f051b5-8bd1-4714-c7c0-d462aaadeed8"
      },
      "outputs": [
        {
          "data": {
            "text/plain": [
              "AnnData object with n_obs × n_vars = 20382 × 13255\n",
              "    obs: 'batch', 'dose_value', 'n_genes'\n",
              "    var: 'ensembl_id', 'ncounts', 'ncells', 'n_cells'\n",
              "    layers: 'counts'"
            ]
          },
          "execution_count": 15,
          "metadata": {},
          "output_type": "execute_result"
        }
      ],
      "source": [
        "sc.pp.filter_cells(mdata, min_genes=200)\n",
        "sc.pp.filter_genes(mdata, min_cells=3)\n",
        "mdata"
      ]
    },
    {
      "cell_type": "markdown",
      "id": "uJ_Dzzu7lLfK",
      "metadata": {
        "id": "uJ_Dzzu7lLfK"
      },
      "source": [
        "## Clustering"
      ]
    },
    {
      "cell_type": "markdown",
      "id": "x54Do_EElrAN",
      "metadata": {
        "id": "x54Do_EElrAN"
      },
      "source": [
        "First of all, we perform clustering on the dataset to see if we get the same figure as in the article. You may want to refer to this tutorial, https://www.sc-best-practices.org/cellular_structure/clustering.html.\n"
      ]
    },
    {
      "cell_type": "markdown",
      "id": "36496fef",
      "metadata": {
        "id": "36496fef"
      },
      "source": [
        "## Pseudobulk"
      ]
    },
    {
      "cell_type": "markdown",
      "id": "303d3dde",
      "metadata": {
        "id": "303d3dde"
      },
      "source": [
        "Since we need to create pseudobulks for each batch-dose combination, we first need to create such a column by concatenating `batch` and `dose_value` (for perturbation BMP4)."
      ]
    },
    {
      "cell_type": "markdown",
      "id": "c61a2aeb",
      "metadata": {
        "id": "c61a2aeb"
      },
      "source": [
        "We need to set categorical metadata to be indeed categorical to create pseudobulks."
      ]
    },
    {
      "cell_type": "markdown",
      "id": "5c76dd54",
      "metadata": {
        "id": "5c76dd54"
      },
      "source": [
        "### One group"
      ]
    },
    {
      "cell_type": "markdown",
      "id": "5c0fae1a",
      "metadata": {
        "id": "5c0fae1a"
      },
      "source": [
        "First, we show how to prepare the data, construct the design matrix and perform the DE testing for perturbation BMP4.\n"
      ]
    }
  ],
  "metadata": {
    "colab": {
      "collapsed_sections": [
        "3c1bce8a",
        "99edd535",
        "0968692b"
      ],
      "provenance": []
    },
    "kernelspec": {
      "display_name": "Python 3 (ipykernel)",
      "language": "python",
      "name": "python3"
    },
    "language_info": {
      "codemirror_mode": {
        "name": "ipython",
        "version": 3
      },
      "file_extension": ".py",
      "mimetype": "text/x-python",
      "name": "python",
      "nbconvert_exporter": "python",
      "pygments_lexer": "ipython3",
      "version": "3.9.15"
    },
    "vscode": {
      "interpreter": {
        "hash": "f9f85f796d01129d0dd105a088854619f454435301f6ffec2fea96ecbd9be4ac"
      }
    },
    "widgets": {
      "application/vnd.jupyter.widget-state+json": {
        "036eb3a68f634fbb8a9d3cef5683a672": {
          "model_module": "@jupyter-widgets/output",
          "model_module_version": "1.0.0",
          "model_name": "OutputModel",
          "state": {
            "_dom_classes": [],
            "_model_module": "@jupyter-widgets/output",
            "_model_module_version": "1.0.0",
            "_model_name": "OutputModel",
            "_view_count": null,
            "_view_module": "@jupyter-widgets/output",
            "_view_module_version": "1.0.0",
            "_view_name": "OutputView",
            "layout": "IPY_MODEL_ddd91bcd9bc146dfa4a59c315e2bc59d",
            "msg_id": "",
            "outputs": [
              {
                "data": {
                  "text/html": "<pre style=\"white-space:pre;overflow-x:auto;line-height:normal;font-family:Menlo,'DejaVu Sans Mono',consolas,'Courier New',monospace\"><span style=\"color: #800000; text-decoration-color: #800000\">Downloading...</span> <span style=\"color: #729c1f; text-decoration-color: #729c1f\">━━━━━━━━━━━━━━━━━━━━━━━━━━━━━━━━━━━━━━━━</span> <span style=\"color: #800080; text-decoration-color: #800080\">100%</span> <span style=\"color: #008080; text-decoration-color: #008080\">0:00:00</span>\n</pre>\n",
                  "text/plain": "\u001b[31mDownloading...\u001b[0m \u001b[38;2;114;156;31m━━━━━━━━━━━━━━━━━━━━━━━━━━━━━━━━━━━━━━━━\u001b[0m \u001b[35m100%\u001b[0m \u001b[36m0:00:00\u001b[0m\n"
                },
                "metadata": {},
                "output_type": "display_data"
              }
            ]
          }
        },
        "ddd91bcd9bc146dfa4a59c315e2bc59d": {
          "model_module": "@jupyter-widgets/base",
          "model_module_version": "1.2.0",
          "model_name": "LayoutModel",
          "state": {
            "_model_module": "@jupyter-widgets/base",
            "_model_module_version": "1.2.0",
            "_model_name": "LayoutModel",
            "_view_count": null,
            "_view_module": "@jupyter-widgets/base",
            "_view_module_version": "1.2.0",
            "_view_name": "LayoutView",
            "align_content": null,
            "align_items": null,
            "align_self": null,
            "border": null,
            "bottom": null,
            "display": null,
            "flex": null,
            "flex_flow": null,
            "grid_area": null,
            "grid_auto_columns": null,
            "grid_auto_flow": null,
            "grid_auto_rows": null,
            "grid_column": null,
            "grid_gap": null,
            "grid_row": null,
            "grid_template_areas": null,
            "grid_template_columns": null,
            "grid_template_rows": null,
            "height": null,
            "justify_content": null,
            "justify_items": null,
            "left": null,
            "margin": null,
            "max_height": null,
            "max_width": null,
            "min_height": null,
            "min_width": null,
            "object_fit": null,
            "object_position": null,
            "order": null,
            "overflow": null,
            "overflow_x": null,
            "overflow_y": null,
            "padding": null,
            "right": null,
            "top": null,
            "visibility": null,
            "width": null
          }
        }
      }
    }
  },
  "nbformat": 4,
  "nbformat_minor": 5
}
