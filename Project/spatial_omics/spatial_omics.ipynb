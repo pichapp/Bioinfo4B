{
  "cells": [
    {
      "cell_type": "markdown",
      "metadata": {
        "id": "3iXrDqJqCll_"
      },
      "source": [
        "# Spatial omics analysis"
      ]
    },
    {
      "cell_type": "markdown",
      "metadata": {
        "id": "ofgOt3u4Cupj"
      },
      "source": [
        "For this project, we are going to follow this tutorial here: https://www.sc-best-practices.org/spatial/domains.html and https://www.sc-best-practices.org/spatial/neighborhood.html."
      ]
    },
    {
      "cell_type": "markdown",
      "metadata": {
        "id": "sONQwI95DMH2"
      },
      "source": [
        "In the tutorial, they used spatial Gene Expression dataset of Mouse Brain Section (Coronal) (https://www.10xgenomics.com/datasets/mouse-brain-section-coronal-1-standard). For the project, we will be using the other section of the Mouse Brain (https://www.10xgenomics.com/datasets/mouse-brain-coronal-section-1-ffpe-2-standard). Feel free to explore the datasets in the website by clicking `view summary`.\n"
      ]
    },
    {
      "cell_type": "markdown",
      "metadata": {
        "id": "Uz1Rl2MpEQ7_"
      },
      "source": [
        "First, download the files https://cf.10xgenomics.com/samples/spatial-exp/2.0.0/CytAssist_FFPE_Mouse_Brain_Rep1/CytAssist_FFPE_Mouse_Brain_Rep1_filtered_feature_bc_matrix.h5 and https://cf.10xgenomics.com/samples/spatial-exp/1.3.0/Visium_Adult_Mouse_Brain/Visium_Adult_Mouse_Brain_spatial.tar.gz from 10xgenomics website and read the feature matrix and image with `squidpy.read.visium`"
      ]
    },
    {
      "cell_type": "markdown",
      "metadata": {},
      "source": [
        "References:\n",
        "Villacampa, E.G., Larsson, L., Mirzazadeh, R., Kvastad, L., Andersson, A., Mollbrink, A., Kokaraki, G., Monteil, V., Schultz, N., Appelberg, K.S. and Montserrat, N., 2021. Genome-wide spatial expression profiling in formalin-fixed tissues. Cell Genomics, 1(3)."
      ]
    }
  ],
  "metadata": {
    "colab": {
      "provenance": []
    },
    "kernelspec": {
      "display_name": "Python 3",
      "name": "python3"
    },
    "language_info": {
      "name": "python"
    }
  },
  "nbformat": 4,
  "nbformat_minor": 0
}
