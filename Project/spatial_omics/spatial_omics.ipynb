{
  "nbformat": 4,
  "nbformat_minor": 0,
  "metadata": {
    "colab": {
      "provenance": []
    },
    "kernelspec": {
      "name": "python3",
      "display_name": "Python 3"
    },
    "language_info": {
      "name": "python"
    }
  },
  "cells": [
    {
      "cell_type": "markdown",
      "source": [
        "# Spatial omics analysis"
      ],
      "metadata": {
        "id": "3iXrDqJqCll_"
      }
    },
    {
      "cell_type": "markdown",
      "source": [
        "For this project, we are going to follow this tutorial here: https://www.sc-best-practices.org/spatial/domains.html and https://www.sc-best-practices.org/spatial/neighborhood.html."
      ],
      "metadata": {
        "id": "ofgOt3u4Cupj"
      }
    },
    {
      "cell_type": "markdown",
      "source": [
        "In the tutorial, they used spatial Gene Expression dataset of Mouse Brain Section (Coronal) (https://www.10xgenomics.com/datasets/mouse-brain-section-coronal-1-standard). For the project, we will be using the other section of the Mouse Brain (https://www.10xgenomics.com/datasets/mouse-brain-coronal-section-1-ffpe-2-standard). Feel free to explore the datasets in the website by clicking `view summary`.\n"
      ],
      "metadata": {
        "id": "sONQwI95DMH2"
      }
    },
    {
      "cell_type": "markdown",
      "source": [
        "First, download the files https://cf.10xgenomics.com/samples/spatial-exp/2.0.0/CytAssist_FFPE_Mouse_Brain_Rep1/CytAssist_FFPE_Mouse_Brain_Rep1_filtered_feature_bc_matrix.h5 and https://cf.10xgenomics.com/samples/spatial-exp/1.3.0/Visium_Adult_Mouse_Brain/Visium_Adult_Mouse_Brain_spatial.tar.gz from 10xgenomics website and read the feature matrix and image with `scanpy.read_visium`"
      ],
      "metadata": {
        "id": "Uz1Rl2MpEQ7_"
      }
    }
  ]
}